{
 "cells": [
  {
   "cell_type": "code",
   "execution_count": 10,
   "id": "056f007e-e7e2-4610-97af-62cc4f4e6692",
   "metadata": {},
   "outputs": [],
   "source": [
    "import numpy as np\n",
    "import pandas as pd\n",
    "import tensorflow as tf\n",
    "import keras\n",
    "import matplotlib.pyplot as plt\n",
    "import sklearn\n",
    "from sklearn.preprocessing import MinMaxScaler"
   ]
  },
  {
   "cell_type": "code",
   "execution_count": 9,
   "id": "5151b6c2-1f03-42d2-ab09-e811717ef15f",
   "metadata": {},
   "outputs": [
    {
     "name": "stdout",
     "output_type": "stream",
     "text": [
      "Collecting sklearn\n",
      "  Using cached sklearn-0.0-py2.py3-none-any.whl\n",
      "Collecting scikit-learn\n",
      "  Using cached scikit_learn-1.1.2-cp38-cp38-macosx_12_0_arm64.whl (7.6 MB)\n",
      "Collecting joblib>=1.0.0\n",
      "  Using cached joblib-1.2.0-py3-none-any.whl (297 kB)\n",
      "Collecting threadpoolctl>=2.0.0\n",
      "  Using cached threadpoolctl-3.1.0-py3-none-any.whl (14 kB)\n",
      "Requirement already satisfied: numpy>=1.17.3 in /Users/djkhai/miniforge3/envs/tensorflow/lib/python3.8/site-packages (from scikit-learn->sklearn) (1.23.2)\n",
      "Collecting scipy>=1.3.2\n",
      "  Downloading scipy-1.9.1-cp38-cp38-macosx_12_0_arm64.whl (29.8 MB)\n",
      "\u001b[2K     \u001b[90m━━━━━━━━━━━━━━━━━━━━━━━━━━━━━━━━━━━━━━━━\u001b[0m \u001b[32m29.8/29.8 MB\u001b[0m \u001b[31m6.8 MB/s\u001b[0m eta \u001b[36m0:00:00\u001b[0m00:01\u001b[0m00:01\u001b[0mm\n",
      "\u001b[?25hInstalling collected packages: threadpoolctl, scipy, joblib, scikit-learn, sklearn\n",
      "Successfully installed joblib-1.2.0 scikit-learn-1.1.2 scipy-1.9.1 sklearn-0.0 threadpoolctl-3.1.0\n"
     ]
    }
   ],
   "source": [
    "!pip install sklearn"
   ]
  },
  {
   "cell_type": "code",
   "execution_count": 11,
   "id": "5f6ce06e-09dc-4e41-823a-1c13c0fc9059",
   "metadata": {},
   "outputs": [
    {
     "data": {
      "text/html": [
       "<div>\n",
       "<style scoped>\n",
       "    .dataframe tbody tr th:only-of-type {\n",
       "        vertical-align: middle;\n",
       "    }\n",
       "\n",
       "    .dataframe tbody tr th {\n",
       "        vertical-align: top;\n",
       "    }\n",
       "\n",
       "    .dataframe thead th {\n",
       "        text-align: right;\n",
       "    }\n",
       "</style>\n",
       "<table border=\"1\" class=\"dataframe\">\n",
       "  <thead>\n",
       "    <tr style=\"text-align: right;\">\n",
       "      <th></th>\n",
       "      <th>Unnamed: 0</th>\n",
       "      <th>symbol</th>\n",
       "      <th>date</th>\n",
       "      <th>close</th>\n",
       "      <th>high</th>\n",
       "      <th>low</th>\n",
       "      <th>open</th>\n",
       "      <th>volume</th>\n",
       "      <th>adjClose</th>\n",
       "      <th>adjHigh</th>\n",
       "      <th>adjLow</th>\n",
       "      <th>adjOpen</th>\n",
       "      <th>adjVolume</th>\n",
       "      <th>divCash</th>\n",
       "      <th>splitFactor</th>\n",
       "    </tr>\n",
       "  </thead>\n",
       "  <tbody>\n",
       "    <tr>\n",
       "      <th>0</th>\n",
       "      <td>0</td>\n",
       "      <td>AAPL</td>\n",
       "      <td>2015-05-27 00:00:00+00:00</td>\n",
       "      <td>132.045</td>\n",
       "      <td>132.260</td>\n",
       "      <td>130.05</td>\n",
       "      <td>130.34</td>\n",
       "      <td>45833246</td>\n",
       "      <td>121.682558</td>\n",
       "      <td>121.880685</td>\n",
       "      <td>119.844118</td>\n",
       "      <td>120.111360</td>\n",
       "      <td>45833246</td>\n",
       "      <td>0.0</td>\n",
       "      <td>1.0</td>\n",
       "    </tr>\n",
       "    <tr>\n",
       "      <th>1</th>\n",
       "      <td>1</td>\n",
       "      <td>AAPL</td>\n",
       "      <td>2015-05-28 00:00:00+00:00</td>\n",
       "      <td>131.780</td>\n",
       "      <td>131.950</td>\n",
       "      <td>131.10</td>\n",
       "      <td>131.86</td>\n",
       "      <td>30733309</td>\n",
       "      <td>121.438354</td>\n",
       "      <td>121.595013</td>\n",
       "      <td>120.811718</td>\n",
       "      <td>121.512076</td>\n",
       "      <td>30733309</td>\n",
       "      <td>0.0</td>\n",
       "      <td>1.0</td>\n",
       "    </tr>\n",
       "    <tr>\n",
       "      <th>2</th>\n",
       "      <td>2</td>\n",
       "      <td>AAPL</td>\n",
       "      <td>2015-05-29 00:00:00+00:00</td>\n",
       "      <td>130.280</td>\n",
       "      <td>131.450</td>\n",
       "      <td>129.90</td>\n",
       "      <td>131.23</td>\n",
       "      <td>50884452</td>\n",
       "      <td>120.056069</td>\n",
       "      <td>121.134251</td>\n",
       "      <td>119.705890</td>\n",
       "      <td>120.931516</td>\n",
       "      <td>50884452</td>\n",
       "      <td>0.0</td>\n",
       "      <td>1.0</td>\n",
       "    </tr>\n",
       "    <tr>\n",
       "      <th>3</th>\n",
       "      <td>3</td>\n",
       "      <td>AAPL</td>\n",
       "      <td>2015-06-01 00:00:00+00:00</td>\n",
       "      <td>130.535</td>\n",
       "      <td>131.390</td>\n",
       "      <td>130.05</td>\n",
       "      <td>131.20</td>\n",
       "      <td>32112797</td>\n",
       "      <td>120.291057</td>\n",
       "      <td>121.078960</td>\n",
       "      <td>119.844118</td>\n",
       "      <td>120.903870</td>\n",
       "      <td>32112797</td>\n",
       "      <td>0.0</td>\n",
       "      <td>1.0</td>\n",
       "    </tr>\n",
       "    <tr>\n",
       "      <th>4</th>\n",
       "      <td>4</td>\n",
       "      <td>AAPL</td>\n",
       "      <td>2015-06-02 00:00:00+00:00</td>\n",
       "      <td>129.960</td>\n",
       "      <td>130.655</td>\n",
       "      <td>129.32</td>\n",
       "      <td>129.86</td>\n",
       "      <td>33667627</td>\n",
       "      <td>119.761181</td>\n",
       "      <td>120.401640</td>\n",
       "      <td>119.171406</td>\n",
       "      <td>119.669029</td>\n",
       "      <td>33667627</td>\n",
       "      <td>0.0</td>\n",
       "      <td>1.0</td>\n",
       "    </tr>\n",
       "  </tbody>\n",
       "</table>\n",
       "</div>"
      ],
      "text/plain": [
       "   Unnamed: 0 symbol                       date    close     high     low  \\\n",
       "0           0   AAPL  2015-05-27 00:00:00+00:00  132.045  132.260  130.05   \n",
       "1           1   AAPL  2015-05-28 00:00:00+00:00  131.780  131.950  131.10   \n",
       "2           2   AAPL  2015-05-29 00:00:00+00:00  130.280  131.450  129.90   \n",
       "3           3   AAPL  2015-06-01 00:00:00+00:00  130.535  131.390  130.05   \n",
       "4           4   AAPL  2015-06-02 00:00:00+00:00  129.960  130.655  129.32   \n",
       "\n",
       "     open    volume    adjClose     adjHigh      adjLow     adjOpen  \\\n",
       "0  130.34  45833246  121.682558  121.880685  119.844118  120.111360   \n",
       "1  131.86  30733309  121.438354  121.595013  120.811718  121.512076   \n",
       "2  131.23  50884452  120.056069  121.134251  119.705890  120.931516   \n",
       "3  131.20  32112797  120.291057  121.078960  119.844118  120.903870   \n",
       "4  129.86  33667627  119.761181  120.401640  119.171406  119.669029   \n",
       "\n",
       "   adjVolume  divCash  splitFactor  \n",
       "0   45833246      0.0          1.0  \n",
       "1   30733309      0.0          1.0  \n",
       "2   50884452      0.0          1.0  \n",
       "3   32112797      0.0          1.0  \n",
       "4   33667627      0.0          1.0  "
      ]
     },
     "execution_count": 11,
     "metadata": {},
     "output_type": "execute_result"
    }
   ],
   "source": [
    "df = pd.read_csv(\"AAPL.csv\")\n",
    "df.head()"
   ]
  },
  {
   "cell_type": "code",
   "execution_count": 12,
   "id": "f8181de1-ca82-4bf4-8a42-78dc8ac20d30",
   "metadata": {},
   "outputs": [
    {
     "data": {
      "text/plain": [
       "1258"
      ]
     },
     "execution_count": 12,
     "metadata": {},
     "output_type": "execute_result"
    }
   ],
   "source": [
    "len(df)"
   ]
  },
  {
   "cell_type": "code",
   "execution_count": 13,
   "id": "c574b5e9-c901-4d3c-aa35-25eabc429312",
   "metadata": {},
   "outputs": [
    {
     "data": {
      "text/plain": [
       "pandas.core.series.Series"
      ]
     },
     "execution_count": 13,
     "metadata": {},
     "output_type": "execute_result"
    }
   ],
   "source": [
    "df_close = df.reset_index()[\"close\"]\n",
    "type(df_close)"
   ]
  },
  {
   "cell_type": "code",
   "execution_count": 14,
   "id": "cd367c32-8be3-4fec-8070-1e42196ac99a",
   "metadata": {},
   "outputs": [
    {
     "data": {
      "image/png": "[encoded data removed]",
      "text/plain": [
       "<Figure size 640x480 with 1 Axes>"
      ]
     },
     "metadata": {},
     "output_type": "display_data"
    }
   ],
   "source": [
    "plt.plot(df_close)\n",
    "plt.show()"
   ]
  },
  {
   "cell_type": "code",
   "execution_count": 24,
   "id": "65d0a590-dc52-4f5b-ba7f-f358290b56ea",
   "metadata": {},
   "outputs": [
    {
     "data": {
      "text/plain": [
       "(1258, 1)"
      ]
     },
     "execution_count": 24,
     "metadata": {},
     "output_type": "execute_result"
    }
   ],
   "source": [
    "#Min MAx Scaler\n",
    "m_scaler = MinMaxScaler(feature_range=(0,1))\n",
    "df_close_scaled = m_scaler.fit_transform(np.array(df_close).reshape(-1,1))\n",
    "df_close_scaled.shape"
   ]
  },
  {
   "cell_type": "code",
   "execution_count": 25,
   "id": "a515d443-3645-425f-8634-6e43bbfa9654",
   "metadata": {},
   "outputs": [],
   "source": [
    "#Doing Train Test Split\n",
    "train_prcn = 0.7\n",
    "train_len = int(df_close_scaled.shape[0] * train_prcn)\n",
    "test_len = df_close_scaled.shape[0] - train_len\n",
    "train_arr, test_arr = df_close_scaled[:train_len, :], df_close_scaled[train_len:, :]\n",
    "#train_arr, test_arr"
   ]
  },
  {
   "cell_type": "code",
   "execution_count": 26,
   "id": "9e33df4e-e7db-4df7-8e99-f57d90a922a2",
   "metadata": {},
   "outputs": [
    {
     "data": {
      "text/plain": [
       "((780, 100), (780,), (278, 100), (278,))"
      ]
     },
     "execution_count": 26,
     "metadata": {},
     "output_type": "execute_result"
    }
   ],
   "source": [
    "#Generate Data which will go inside the Model\n",
    "time_stamps = 100\n",
    "\n",
    "def generate_data(arr, time_stamps):\n",
    "    total_len = arr.shape[0] - time_stamps\n",
    "    \n",
    "    X_train, y_train = [], []\n",
    "    for i in range(total_len):\n",
    "        X_train.append(arr[i:i+time_stamps, 0])\n",
    "        y_train.append(arr[i+time_stamps, 0])\n",
    "        \n",
    "    return np.array(X_train), np.array(y_train)\n",
    "        \n",
    "X_train, y_train = generate_data(train_arr, 100)\n",
    "X_test, y_test = generate_data(test_arr, 100)\n",
    "X_train.shape, y_train.shape, X_test.shape, y_test.shape"
   ]
  },
  {
   "cell_type": "code",
   "execution_count": 27,
   "id": "64dfbdeb-fcf7-404c-a388-1f056bb55c9b",
   "metadata": {},
   "outputs": [
    {
     "data": {
      "text/plain": [
       "((780, 100, 1), (278, 100, 1))"
      ]
     },
     "execution_count": 27,
     "metadata": {},
     "output_type": "execute_result"
    }
   ],
   "source": [
    "#Reshaping the Input Array for LSTM Model\n",
    "\n",
    "X_train = X_train.reshape(X_train.shape[0], X_train.shape[1], 1)\n",
    "X_test = X_test.reshape(X_test.shape[0], X_test.shape[1], 1)\n",
    "\n",
    "X_train.shape, X_test.shape"
   ]
  },
  {
   "cell_type": "code",
   "execution_count": 28,
   "id": "86200020-613f-42aa-b96c-59105b135a74",
   "metadata": {},
   "outputs": [],
   "source": [
    "# Build a LSTM Model to Predict Forecasting Values\n",
    "from tensorflow.keras.models import Sequential\n",
    "from tensorflow.keras.layers import Dense\n",
    "from tensorflow.keras.layers import LSTM\n"
   ]
  },
  {
   "cell_type": "code",
   "execution_count": 29,
   "id": "f411d1a0-d0ad-4afa-ad25-fc61632b2351",
   "metadata": {},
   "outputs": [],
   "source": [
    "model = Sequential()\n",
    "model.add(LSTM(50, return_sequences = True, input_shape = (100,1)))\n",
    "model.add(LSTM(50, return_sequences = True))\n",
    "model.add(LSTM(50))\n",
    "model.add(Dense(1))\n",
    "model.compile(loss = 'mean_squared_error', optimizer = 'adam') "
   ]
  },
  {
   "cell_type": "code",
   "execution_count": 30,
   "id": "f4c95141-74ee-4a18-8b10-74dad6fbbb7f",
   "metadata": {},
   "outputs": [
    {
     "name": "stdout",
     "output_type": "stream",
     "text": [
      "Model: \"sequential_1\"\n",
      "_________________________________________________________________\n",
      " Layer (type)                Output Shape              Param #   \n",
      "=================================================================\n",
      " lstm_3 (LSTM)               (None, 100, 50)           10400     \n",
      "                                                                 \n",
      " lstm_4 (LSTM)               (None, 100, 50)           20200     \n",
      "                                                                 \n",
      " lstm_5 (LSTM)               (None, 50)                20200     \n",
      "                                                                 \n",
      " dense_1 (Dense)             (None, 1)                 51        \n",
      "                                                                 \n",
      "=================================================================\n",
      "Total params: 50,851\n",
      "Trainable params: 50,851\n",
      "Non-trainable params: 0\n",
      "_________________________________________________________________\n"
     ]
    }
   ],
   "source": [
    "model.summary()"
   ]
  },
  {
   "cell_type": "code",
   "execution_count": 31,
   "id": "211d0aa7-bc3a-41fc-8ffa-c8b2e6d8e23c",
   "metadata": {},
   "outputs": [
    {
     "name": "stdout",
     "output_type": "stream",
     "text": [
      "Epoch 1/100\n",
      "13/13 [==============================] - 3s 149ms/step - loss: 0.0212 - val_loss: 0.0791\n",
      "Epoch 2/100\n",
      "13/13 [==============================] - 1s 103ms/step - loss: 0.0048 - val_loss: 0.0067\n",
      "Epoch 3/100\n",
      "13/13 [==============================] - 1s 105ms/step - loss: 0.0013 - val_loss: 0.0068\n",
      "Epoch 4/100\n",
      "13/13 [==============================] - 1s 116ms/step - loss: 0.0010 - val_loss: 0.0047\n",
      "Epoch 5/100\n",
      "13/13 [==============================] - 1s 114ms/step - loss: 8.2429e-04 - val_loss: 0.0054\n",
      "Epoch 6/100\n",
      "13/13 [==============================] - 1s 106ms/step - loss: 7.6949e-04 - val_loss: 0.0061\n",
      "Epoch 7/100\n",
      "13/13 [==============================] - 1s 104ms/step - loss: 7.5645e-04 - val_loss: 0.0051\n",
      "Epoch 8/100\n",
      "13/13 [==============================] - 2s 117ms/step - loss: 7.5284e-04 - val_loss: 0.0050\n",
      "Epoch 9/100\n",
      "13/13 [==============================] - 2s 118ms/step - loss: 7.2522e-04 - val_loss: 0.0053\n",
      "Epoch 10/100\n",
      "13/13 [==============================] - 2s 120ms/step - loss: 6.9892e-04 - val_loss: 0.0060\n",
      "Epoch 11/100\n",
      "13/13 [==============================] - 1s 114ms/step - loss: 6.6994e-04 - val_loss: 0.0054\n",
      "Epoch 12/100\n",
      "13/13 [==============================] - 1s 111ms/step - loss: 6.5962e-04 - val_loss: 0.0062\n",
      "Epoch 13/100\n",
      "13/13 [==============================] - 1s 109ms/step - loss: 6.4924e-04 - val_loss: 0.0062\n",
      "Epoch 14/100\n",
      "13/13 [==============================] - 2s 120ms/step - loss: 6.3977e-04 - val_loss: 0.0044\n",
      "Epoch 15/100\n",
      "13/13 [==============================] - 2s 122ms/step - loss: 6.6530e-04 - val_loss: 0.0079\n",
      "Epoch 16/100\n",
      "13/13 [==============================] - 2s 123ms/step - loss: 6.8616e-04 - val_loss: 0.0058\n",
      "Epoch 17/100\n",
      "13/13 [==============================] - 2s 120ms/step - loss: 6.1145e-04 - val_loss: 0.0044\n",
      "Epoch 18/100\n",
      "13/13 [==============================] - 2s 122ms/step - loss: 6.0318e-04 - val_loss: 0.0065\n",
      "Epoch 19/100\n",
      "13/13 [==============================] - 2s 122ms/step - loss: 6.1510e-04 - val_loss: 0.0042\n",
      "Epoch 20/100\n",
      "13/13 [==============================] - 2s 122ms/step - loss: 5.7826e-04 - val_loss: 0.0046\n",
      "Epoch 21/100\n",
      "13/13 [==============================] - 2s 117ms/step - loss: 5.5156e-04 - val_loss: 0.0042\n",
      "Epoch 22/100\n",
      "13/13 [==============================] - 2s 125ms/step - loss: 5.6209e-04 - val_loss: 0.0053\n",
      "Epoch 23/100\n",
      "13/13 [==============================] - 1s 108ms/step - loss: 5.1840e-04 - val_loss: 0.0060\n",
      "Epoch 24/100\n",
      "13/13 [==============================] - 2s 127ms/step - loss: 5.3325e-04 - val_loss: 0.0030\n",
      "Epoch 25/100\n",
      "13/13 [==============================] - 2s 123ms/step - loss: 5.2829e-04 - val_loss: 0.0039\n",
      "Epoch 26/100\n",
      "13/13 [==============================] - 2s 128ms/step - loss: 4.8772e-04 - val_loss: 0.0037\n",
      "Epoch 27/100\n",
      "13/13 [==============================] - 2s 125ms/step - loss: 4.9125e-04 - val_loss: 0.0058\n",
      "Epoch 28/100\n",
      "13/13 [==============================] - 2s 121ms/step - loss: 5.2531e-04 - val_loss: 0.0024\n",
      "Epoch 29/100\n",
      "13/13 [==============================] - 2s 125ms/step - loss: 6.1581e-04 - val_loss: 0.0043\n",
      "Epoch 30/100\n",
      "13/13 [==============================] - 2s 122ms/step - loss: 4.8521e-04 - val_loss: 0.0026\n",
      "Epoch 31/100\n",
      "13/13 [==============================] - 2s 123ms/step - loss: 4.8219e-04 - val_loss: 0.0028\n",
      "Epoch 32/100\n",
      "13/13 [==============================] - 2s 123ms/step - loss: 4.5586e-04 - val_loss: 0.0051\n",
      "Epoch 33/100\n",
      "13/13 [==============================] - 2s 118ms/step - loss: 5.3266e-04 - val_loss: 0.0023\n",
      "Epoch 34/100\n",
      "13/13 [==============================] - 2s 116ms/step - loss: 4.6401e-04 - val_loss: 0.0040\n",
      "Epoch 35/100\n",
      "13/13 [==============================] - 1s 111ms/step - loss: 4.6163e-04 - val_loss: 0.0022\n",
      "Epoch 36/100\n",
      "13/13 [==============================] - 1s 115ms/step - loss: 4.8391e-04 - val_loss: 0.0031\n",
      "Epoch 37/100\n",
      "13/13 [==============================] - 2s 117ms/step - loss: 4.3454e-04 - val_loss: 0.0029\n",
      "Epoch 38/100\n",
      "13/13 [==============================] - 2s 125ms/step - loss: 4.2395e-04 - val_loss: 0.0023\n",
      "Epoch 39/100\n",
      "13/13 [==============================] - 2s 128ms/step - loss: 4.8413e-04 - val_loss: 0.0021\n",
      "Epoch 40/100\n",
      "13/13 [==============================] - 2s 117ms/step - loss: 5.2448e-04 - val_loss: 0.0041\n",
      "Epoch 41/100\n",
      "13/13 [==============================] - 1s 109ms/step - loss: 4.5925e-04 - val_loss: 0.0021\n",
      "Epoch 42/100\n",
      "13/13 [==============================] - 1s 111ms/step - loss: 4.3184e-04 - val_loss: 0.0036\n",
      "Epoch 43/100\n",
      "13/13 [==============================] - 1s 112ms/step - loss: 4.0604e-04 - val_loss: 0.0021\n",
      "Epoch 44/100\n",
      "13/13 [==============================] - 2s 121ms/step - loss: 4.1242e-04 - val_loss: 0.0043\n",
      "Epoch 45/100\n",
      "13/13 [==============================] - 2s 128ms/step - loss: 4.7076e-04 - val_loss: 0.0019\n",
      "Epoch 46/100\n",
      "13/13 [==============================] - 2s 118ms/step - loss: 4.0178e-04 - val_loss: 0.0021\n",
      "Epoch 47/100\n",
      "13/13 [==============================] - 2s 118ms/step - loss: 4.0752e-04 - val_loss: 0.0025\n",
      "Epoch 48/100\n",
      "13/13 [==============================] - 2s 120ms/step - loss: 3.8198e-04 - val_loss: 0.0024\n",
      "Epoch 49/100\n",
      "13/13 [==============================] - 2s 120ms/step - loss: 3.8003e-04 - val_loss: 0.0017\n",
      "Epoch 50/100\n",
      "13/13 [==============================] - 2s 124ms/step - loss: 3.9688e-04 - val_loss: 0.0020\n",
      "Epoch 51/100\n",
      "13/13 [==============================] - 2s 126ms/step - loss: 3.7450e-04 - val_loss: 0.0025\n",
      "Epoch 52/100\n",
      "13/13 [==============================] - 2s 121ms/step - loss: 3.6899e-04 - val_loss: 0.0022\n",
      "Epoch 53/100\n",
      "13/13 [==============================] - 2s 127ms/step - loss: 3.7121e-04 - val_loss: 0.0022\n",
      "Epoch 54/100\n",
      "13/13 [==============================] - 1s 108ms/step - loss: 3.7763e-04 - val_loss: 0.0015\n",
      "Epoch 55/100\n",
      "13/13 [==============================] - 1s 107ms/step - loss: 3.6226e-04 - val_loss: 0.0026\n",
      "Epoch 56/100\n",
      "13/13 [==============================] - 1s 110ms/step - loss: 3.5625e-04 - val_loss: 0.0022\n",
      "Epoch 57/100\n",
      "13/13 [==============================] - 2s 120ms/step - loss: 3.5269e-04 - val_loss: 0.0017\n",
      "Epoch 58/100\n",
      "13/13 [==============================] - 2s 122ms/step - loss: 3.7467e-04 - val_loss: 0.0015\n",
      "Epoch 59/100\n",
      "13/13 [==============================] - 2s 124ms/step - loss: 3.5537e-04 - val_loss: 0.0024\n",
      "Epoch 60/100\n",
      "13/13 [==============================] - 1s 115ms/step - loss: 3.5673e-04 - val_loss: 0.0018\n",
      "Epoch 61/100\n",
      "13/13 [==============================] - 1s 113ms/step - loss: 3.4253e-04 - val_loss: 0.0014\n",
      "Epoch 62/100\n",
      "13/13 [==============================] - 2s 122ms/step - loss: 3.4949e-04 - val_loss: 0.0039\n",
      "Epoch 63/100\n",
      "13/13 [==============================] - 2s 119ms/step - loss: 3.6892e-04 - val_loss: 0.0032\n",
      "Epoch 64/100\n",
      "13/13 [==============================] - 1s 107ms/step - loss: 4.1207e-04 - val_loss: 0.0015\n",
      "Epoch 65/100\n",
      "13/13 [==============================] - 1s 115ms/step - loss: 4.5962e-04 - val_loss: 0.0014\n",
      "Epoch 66/100\n",
      "13/13 [==============================] - 2s 118ms/step - loss: 3.8534e-04 - val_loss: 0.0025\n",
      "Epoch 67/100\n",
      "13/13 [==============================] - 2s 120ms/step - loss: 3.1306e-04 - val_loss: 0.0016\n",
      "Epoch 68/100\n",
      "13/13 [==============================] - 1s 114ms/step - loss: 3.3943e-04 - val_loss: 0.0029\n",
      "Epoch 69/100\n",
      "13/13 [==============================] - 1s 116ms/step - loss: 2.9899e-04 - val_loss: 0.0015\n",
      "Epoch 70/100\n",
      "13/13 [==============================] - 2s 120ms/step - loss: 2.9421e-04 - val_loss: 0.0022\n",
      "Epoch 71/100\n",
      "13/13 [==============================] - 2s 117ms/step - loss: 3.0889e-04 - val_loss: 0.0013\n",
      "Epoch 72/100\n",
      "13/13 [==============================] - 2s 117ms/step - loss: 3.1783e-04 - val_loss: 0.0026\n",
      "Epoch 73/100\n",
      "13/13 [==============================] - 1s 108ms/step - loss: 3.1491e-04 - val_loss: 0.0045\n",
      "Epoch 74/100\n",
      "13/13 [==============================] - 1s 114ms/step - loss: 5.0465e-04 - val_loss: 0.0014\n",
      "Epoch 75/100\n",
      "13/13 [==============================] - 1s 113ms/step - loss: 3.4737e-04 - val_loss: 0.0032\n",
      "Epoch 76/100\n",
      "13/13 [==============================] - 1s 111ms/step - loss: 2.8402e-04 - val_loss: 0.0017\n",
      "Epoch 77/100\n",
      "13/13 [==============================] - 2s 120ms/step - loss: 3.2167e-04 - val_loss: 0.0017\n",
      "Epoch 78/100\n",
      "13/13 [==============================] - 2s 124ms/step - loss: 3.0724e-04 - val_loss: 0.0025\n",
      "Epoch 79/100\n",
      "13/13 [==============================] - 2s 120ms/step - loss: 2.6727e-04 - val_loss: 0.0024\n",
      "Epoch 80/100\n",
      "13/13 [==============================] - 1s 115ms/step - loss: 2.7844e-04 - val_loss: 0.0030\n",
      "Epoch 81/100\n",
      "13/13 [==============================] - 1s 107ms/step - loss: 2.6288e-04 - val_loss: 0.0023\n",
      "Epoch 82/100\n",
      "13/13 [==============================] - 1s 109ms/step - loss: 2.6882e-04 - val_loss: 0.0027\n",
      "Epoch 83/100\n",
      "13/13 [==============================] - 1s 107ms/step - loss: 2.6882e-04 - val_loss: 0.0021\n",
      "Epoch 84/100\n",
      "13/13 [==============================] - 2s 120ms/step - loss: 2.4968e-04 - val_loss: 0.0022\n",
      "Epoch 85/100\n",
      "13/13 [==============================] - 2s 118ms/step - loss: 2.4379e-04 - val_loss: 0.0019\n",
      "Epoch 86/100\n",
      "13/13 [==============================] - 1s 112ms/step - loss: 2.3666e-04 - val_loss: 0.0027\n",
      "Epoch 87/100\n",
      "13/13 [==============================] - 1s 112ms/step - loss: 2.4894e-04 - val_loss: 0.0012\n",
      "Epoch 88/100\n",
      "13/13 [==============================] - 2s 121ms/step - loss: 2.6258e-04 - val_loss: 0.0016\n",
      "Epoch 89/100\n",
      "13/13 [==============================] - 2s 117ms/step - loss: 2.4896e-04 - val_loss: 0.0021\n",
      "Epoch 90/100\n",
      "13/13 [==============================] - 1s 109ms/step - loss: 2.3289e-04 - val_loss: 0.0021\n",
      "Epoch 91/100\n",
      "13/13 [==============================] - 1s 115ms/step - loss: 2.1961e-04 - val_loss: 0.0017\n",
      "Epoch 92/100\n",
      "13/13 [==============================] - 2s 119ms/step - loss: 2.2824e-04 - val_loss: 0.0018\n",
      "Epoch 93/100\n",
      "13/13 [==============================] - 1s 114ms/step - loss: 2.1414e-04 - val_loss: 0.0023\n",
      "Epoch 94/100\n",
      "13/13 [==============================] - 1s 108ms/step - loss: 2.2423e-04 - val_loss: 0.0045\n",
      "Epoch 95/100\n",
      "13/13 [==============================] - 1s 115ms/step - loss: 2.8294e-04 - val_loss: 0.0012\n",
      "Epoch 96/100\n",
      "13/13 [==============================] - 2s 122ms/step - loss: 2.1455e-04 - val_loss: 0.0011\n",
      "Epoch 97/100\n",
      "13/13 [==============================] - 2s 118ms/step - loss: 2.1964e-04 - val_loss: 0.0011\n",
      "Epoch 98/100\n",
      "13/13 [==============================] - 1s 113ms/step - loss: 2.2638e-04 - val_loss: 0.0013\n",
      "Epoch 99/100\n",
      "13/13 [==============================] - 1s 108ms/step - loss: 2.0494e-04 - val_loss: 0.0012\n",
      "Epoch 100/100\n",
      "13/13 [==============================] - 1s 111ms/step - loss: 2.0920e-04 - val_loss: 0.0012\n"
     ]
    },
    {
     "data": {
      "text/plain": [
       "<keras.callbacks.History at 0x290c41370>"
      ]
     },
     "execution_count": 31,
     "metadata": {},
     "output_type": "execute_result"
    }
   ],
   "source": [
    "model.fit(X_train, y_train, validation_data=(X_test, y_test), epochs = 100, batch_size = 64, verbose = 1)"
   ]
  },
  {
   "cell_type": "code",
   "execution_count": 32,
   "id": "bd54efae-c5cb-4585-8a8e-31d995394567",
   "metadata": {},
   "outputs": [
    {
     "data": {
      "text/plain": [
       "'2.10.0'"
      ]
     },
     "execution_count": 32,
     "metadata": {},
     "output_type": "execute_result"
    }
   ],
   "source": [
    "tf.__version__"
   ]
  },
  {
   "cell_type": "code",
   "execution_count": 33,
   "id": "3dcaea8f-14c7-49be-9f37-1246a7b75cb7",
   "metadata": {},
   "outputs": [
    {
     "name": "stdout",
     "output_type": "stream",
     "text": [
      "25/25 [==============================] - 1s 12ms/step\n",
      "9/9 [==============================] - 0s 12ms/step\n"
     ]
    },
    {
     "data": {
      "text/plain": [
       "((780, 1), (278, 1))"
      ]
     },
     "execution_count": 33,
     "metadata": {},
     "output_type": "execute_result"
    }
   ],
   "source": [
    "train_predict = model.predict(X_train)\n",
    "test_predict = model.predict(X_test)\n",
    "train_predict.shape, test_predict.shape\n"
   ]
  },
  {
   "cell_type": "code",
   "execution_count": 34,
   "id": "d3ff42c4-11f3-426e-ae02-4eb932a713cb",
   "metadata": {},
   "outputs": [
    {
     "data": {
      "text/plain": [
       "((780, 1), (278, 1))"
      ]
     },
     "execution_count": 34,
     "metadata": {},
     "output_type": "execute_result"
    }
   ],
   "source": [
    "train_predict = m_scaler.inverse_transform(train_predict)\n",
    "test_predict = m_scaler.inverse_transform(test_predict)\n",
    "train_predict.shape, test_predict.shape"
   ]
  },
  {
   "cell_type": "code",
   "execution_count": 35,
   "id": "11ab197e-0286-47e7-ae54-7eed24f1c918",
   "metadata": {},
   "outputs": [
    {
     "data": {
      "text/plain": [
       "152.39467521892132"
      ]
     },
     "execution_count": 35,
     "metadata": {},
     "output_type": "execute_result"
    }
   ],
   "source": [
    "import math\n",
    "from sklearn.metrics import mean_squared_error\n",
    "math.sqrt(mean_squared_error(y_train, train_predict))"
   ]
  },
  {
   "cell_type": "code",
   "execution_count": 36,
   "id": "6acf932a-dc2a-4dd3-9d74-c732f532f7e5",
   "metadata": {},
   "outputs": [
    {
     "data": {
      "text/plain": [
       "253.247198976192"
      ]
     },
     "execution_count": 36,
     "metadata": {},
     "output_type": "execute_result"
    }
   ],
   "source": [
    "math.sqrt(mean_squared_error(y_test, test_predict))"
   ]
  },
  {
   "cell_type": "code",
   "execution_count": 157,
   "id": "0d0f5be3-2be7-4439-bf5d-f71000348e08",
   "metadata": {},
   "outputs": [
    {
     "name": "stdout",
     "output_type": "stream",
     "text": [
      "1258\n"
     ]
    },
    {
     "data": {
      "text/plain": [
       "[<matplotlib.lines.Line2D at 0x2bcd8d5e0>]"
      ]
     },
     "execution_count": 157,
     "metadata": {},
     "output_type": "execute_result"
    },
    {
     "data": {
      "image/png": "[encoded data removed]",
      "text/plain": [
       "<Figure size 2200x500 with 1 Axes>"
      ]
     },
     "metadata": {},
     "output_type": "display_data"
    }
   ],
   "source": [
    "predict_plot = np.empty_like(df_close_scaled)\n",
    "predict_plot[:,:] = np.nan\n",
    "predict_plot[time_stamps : time_stamps + len(train_predict), :] = train_predict\n",
    "\n",
    "#test_predict_plot = np.empty_like(test_arr)\n",
    "#test_predict_plot[:,:] = np.nan\n",
    "predict_plot[len(train_arr) + time_stamps:,:] = test_predict\n",
    "print(len(predict_plot))\n",
    "\n",
    "plt.figure(figsize=(22,5))\n",
    "plt.plot(m_scaler.inverse_transform(df_close_scaled))\n",
    "plt.plot(predict_plot)\n"
   ]
  },
  {
   "cell_type": "code",
   "execution_count": 152,
   "id": "d7e037c7-f6e7-4973-8d2d-3e9448960882",
   "metadata": {},
   "outputs": [
    {
     "data": {
      "text/plain": [
       "1258"
      ]
     },
     "execution_count": 152,
     "metadata": {},
     "output_type": "execute_result"
    }
   ],
   "source": [
    "len(predict_plot)"
   ]
  },
  {
   "cell_type": "code",
   "execution_count": 158,
   "id": "5cc6c8d2-40f0-4e89-bb2d-b051e0787bbf",
   "metadata": {},
   "outputs": [
    {
     "name": "stdout",
     "output_type": "stream",
     "text": [
      "1/1 [==============================] - 0s 22ms/step\n",
      "\n",
      "\n",
      "1/1 [==============================] - 0s 16ms/step\n",
      "\n",
      "\n",
      "1/1 [==============================] - 0s 12ms/step\n",
      "\n",
      "\n",
      "1/1 [==============================] - 0s 13ms/step\n",
      "\n",
      "\n",
      "1/1 [==============================] - 0s 12ms/step\n",
      "\n",
      "\n",
      "1/1 [==============================] - 0s 13ms/step\n",
      "\n",
      "\n",
      "1/1 [==============================] - 0s 11ms/step\n",
      "\n",
      "\n",
      "1/1 [==============================] - 0s 14ms/step\n",
      "\n",
      "\n",
      "1/1 [==============================] - 0s 14ms/step\n",
      "\n",
      "\n",
      "1/1 [==============================] - 0s 14ms/step\n",
      "\n",
      "\n",
      "1/1 [==============================] - 0s 14ms/step\n",
      "\n",
      "\n",
      "1/1 [==============================] - 0s 12ms/step\n",
      "\n",
      "\n",
      "1/1 [==============================] - 0s 14ms/step\n",
      "\n",
      "\n",
      "1/1 [==============================] - 0s 14ms/step\n",
      "\n",
      "\n",
      "1/1 [==============================] - 0s 14ms/step\n",
      "\n",
      "\n",
      "1/1 [==============================] - 0s 14ms/step\n",
      "\n",
      "\n",
      "1/1 [==============================] - 0s 14ms/step\n",
      "\n",
      "\n",
      "1/1 [==============================] - 0s 14ms/step\n",
      "\n",
      "\n",
      "1/1 [==============================] - 0s 14ms/step\n",
      "\n",
      "\n",
      "1/1 [==============================] - 0s 14ms/step\n",
      "\n",
      "\n",
      "1/1 [==============================] - 0s 14ms/step\n",
      "\n",
      "\n",
      "1/1 [==============================] - 0s 14ms/step\n",
      "\n",
      "\n",
      "1/1 [==============================] - 0s 13ms/step\n",
      "\n",
      "\n",
      "1/1 [==============================] - 0s 14ms/step\n",
      "\n",
      "\n",
      "1/1 [==============================] - 0s 14ms/step\n",
      "\n",
      "\n",
      "1/1 [==============================] - 0s 14ms/step\n",
      "\n",
      "\n",
      "1/1 [==============================] - 0s 14ms/step\n",
      "\n",
      "\n",
      "1/1 [==============================] - 0s 14ms/step\n",
      "\n",
      "\n",
      "1/1 [==============================] - 0s 15ms/step\n",
      "\n",
      "\n",
      "1/1 [==============================] - 0s 14ms/step\n",
      "\n",
      "\n",
      "1/1 [==============================] - 0s 14ms/step\n",
      "\n",
      "\n",
      "1/1 [==============================] - 0s 14ms/step\n",
      "\n",
      "\n",
      "1/1 [==============================] - 0s 13ms/step\n",
      "\n",
      "\n",
      "1/1 [==============================] - 0s 13ms/step\n",
      "\n",
      "\n",
      "1/1 [==============================] - 0s 14ms/step\n",
      "\n",
      "\n",
      "1/1 [==============================] - 0s 14ms/step\n",
      "\n",
      "\n",
      "1/1 [==============================] - 0s 14ms/step\n",
      "\n",
      "\n",
      "1/1 [==============================] - 0s 15ms/step\n",
      "\n",
      "\n",
      "1/1 [==============================] - 0s 14ms/step\n",
      "\n",
      "\n",
      "1/1 [==============================] - 0s 15ms/step\n",
      "\n",
      "\n",
      "1/1 [==============================] - 0s 15ms/step\n",
      "\n",
      "\n",
      "1/1 [==============================] - 0s 13ms/step\n",
      "\n",
      "\n",
      "1/1 [==============================] - 0s 14ms/step\n",
      "\n",
      "\n",
      "1/1 [==============================] - 0s 13ms/step\n",
      "\n",
      "\n",
      "1/1 [==============================] - 0s 14ms/step\n",
      "\n",
      "\n",
      "1/1 [==============================] - 0s 14ms/step\n",
      "\n",
      "\n",
      "1/1 [==============================] - 0s 14ms/step\n",
      "\n",
      "\n",
      "1/1 [==============================] - 0s 14ms/step\n",
      "\n",
      "\n",
      "1/1 [==============================] - 0s 13ms/step\n",
      "\n",
      "\n",
      "1/1 [==============================] - 0s 13ms/step\n",
      "\n",
      "\n",
      "1/1 [==============================] - 0s 14ms/step\n",
      "\n",
      "\n",
      "1/1 [==============================] - 0s 13ms/step\n",
      "\n",
      "\n",
      "1/1 [==============================] - 0s 13ms/step\n",
      "\n",
      "\n",
      "1/1 [==============================] - 0s 14ms/step\n",
      "\n",
      "\n",
      "1/1 [==============================] - 0s 13ms/step\n",
      "\n",
      "\n",
      "1/1 [==============================] - 0s 14ms/step\n",
      "\n",
      "\n",
      "1/1 [==============================] - 0s 14ms/step\n",
      "\n",
      "\n",
      "1/1 [==============================] - 0s 14ms/step\n",
      "\n",
      "\n",
      "1/1 [==============================] - 0s 14ms/step\n",
      "\n",
      "\n",
      "1/1 [==============================] - 0s 14ms/step\n",
      "\n",
      "\n",
      "1/1 [==============================] - 0s 13ms/step\n",
      "\n",
      "\n",
      "1/1 [==============================] - 0s 13ms/step\n",
      "\n",
      "\n",
      "1/1 [==============================] - 0s 13ms/step\n",
      "\n",
      "\n",
      "1/1 [==============================] - 0s 13ms/step\n",
      "\n",
      "\n",
      "1/1 [==============================] - 0s 13ms/step\n",
      "\n",
      "\n",
      "1/1 [==============================] - 0s 14ms/step\n",
      "\n",
      "\n",
      "1/1 [==============================] - 0s 14ms/step\n",
      "\n",
      "\n",
      "1/1 [==============================] - 0s 15ms/step\n",
      "\n",
      "\n",
      "1/1 [==============================] - 0s 14ms/step\n",
      "\n",
      "\n",
      "1/1 [==============================] - 0s 13ms/step\n",
      "\n",
      "\n",
      "1/1 [==============================] - 0s 14ms/step\n",
      "\n",
      "\n",
      "1/1 [==============================] - 0s 14ms/step\n",
      "\n",
      "\n",
      "1/1 [==============================] - 0s 13ms/step\n",
      "\n",
      "\n",
      "1/1 [==============================] - 0s 13ms/step\n",
      "\n",
      "\n",
      "1/1 [==============================] - 0s 13ms/step\n",
      "\n",
      "\n",
      "1/1 [==============================] - 0s 13ms/step\n",
      "\n",
      "\n",
      "1/1 [==============================] - 0s 14ms/step\n",
      "\n",
      "\n",
      "1/1 [==============================] - 0s 14ms/step\n",
      "\n",
      "\n",
      "1/1 [==============================] - 0s 14ms/step\n",
      "\n",
      "\n",
      "1/1 [==============================] - 0s 13ms/step\n",
      "\n",
      "\n",
      "1/1 [==============================] - 0s 13ms/step\n",
      "\n",
      "\n",
      "1/1 [==============================] - 0s 14ms/step\n",
      "\n",
      "\n",
      "1/1 [==============================] - 0s 12ms/step\n",
      "\n",
      "\n",
      "1/1 [==============================] - 0s 13ms/step\n",
      "\n",
      "\n",
      "1/1 [==============================] - 0s 13ms/step\n",
      "\n",
      "\n",
      "1/1 [==============================] - 0s 14ms/step\n",
      "\n",
      "\n",
      "1/1 [==============================] - 0s 14ms/step\n",
      "\n",
      "\n",
      "1/1 [==============================] - 0s 14ms/step\n",
      "\n",
      "\n",
      "1/1 [==============================] - 0s 13ms/step\n",
      "\n",
      "\n",
      "1/1 [==============================] - 0s 13ms/step\n",
      "\n",
      "\n",
      "1/1 [==============================] - 0s 13ms/step\n",
      "\n",
      "\n",
      "1/1 [==============================] - 0s 14ms/step\n",
      "\n",
      "\n",
      "1/1 [==============================] - 0s 12ms/step\n",
      "\n",
      "\n",
      "1/1 [==============================] - 0s 13ms/step\n",
      "\n",
      "\n",
      "1/1 [==============================] - 0s 14ms/step\n",
      "\n",
      "\n",
      "1/1 [==============================] - 0s 14ms/step\n",
      "\n",
      "\n",
      "1/1 [==============================] - 0s 14ms/step\n",
      "\n",
      "\n",
      "1/1 [==============================] - 0s 13ms/step\n",
      "\n",
      "\n",
      "1/1 [==============================] - 0s 13ms/step\n",
      "\n",
      "\n",
      "1/1 [==============================] - 0s 14ms/step\n",
      "\n",
      "\n"
     ]
    },
    {
     "data": {
      "text/plain": [
       "100"
      ]
     },
     "execution_count": 158,
     "metadata": {},
     "output_type": "execute_result"
    }
   ],
   "source": [
    "#Predict the Future or Forecast for Future\n",
    "n_days = 100\n",
    "i = 0\n",
    "future_predict_scaled = []\n",
    "future_predict = []\n",
    "while(i<n_days):\n",
    "    \n",
    "    if i == 0:\n",
    "        test_i = test_arr[len(test_arr) - time_stamps: len(test_arr)]\n",
    "        \n",
    "        test_i_final = test_i.reshape(1, 100)\n",
    "        test_i_final = test_i_final.reshape(1, 100, 1)\n",
    "        future_predict_scaled.append(model.predict(test_i_final))\n",
    "        future_predict.append(m_scaler.inverse_transform(future_predict_scaled[-1]))\n",
    "        #print(future_predict)\n",
    "        print(\"\\n\")\n",
    "        \n",
    "    else:\n",
    "        \n",
    "        test_i = np.array(list(test_i[1:]) + list(future_predict_scaled[-1]))\n",
    "        #print(list(future_predict[-1]))\n",
    "        #print(list(test_i[1:]))\n",
    "        #print(test_i)\n",
    "        test_i_final = test_i.reshape(1, 100)\n",
    "        test_i_final = test_i_final.reshape(1, 100, 1)\n",
    "        future_predict_scaled.append(model.predict(test_i_final))\n",
    "        future_predict.append(m_scaler.inverse_transform(future_predict_scaled[-1]))\n",
    "        #print(future_predict)\n",
    "        print(\"\\n\")\n",
    "    i = i+1\n",
    "\n",
    "len(future_predict_scaled)"
   ]
  },
  {
   "cell_type": "code",
   "execution_count": 159,
   "id": "8a391523-6229-47bb-ab1a-e4837de689a5",
   "metadata": {},
   "outputs": [
    {
     "name": "stdout",
     "output_type": "stream",
     "text": [
      "1258 100\n"
     ]
    },
    {
     "data": {
      "text/plain": [
       "1358"
      ]
     },
     "execution_count": 159,
     "metadata": {},
     "output_type": "execute_result"
    }
   ],
   "source": [
    "\n",
    "\n",
    "print(len(predict_plot), len(future_predict))\n",
    "predict_plot = list(predict_plot) + future_predict\n",
    "len(predict_plot)"
   ]
  },
  {
   "cell_type": "code",
   "execution_count": 160,
   "id": "6538f111-ab42-47fa-b368-6ce0c2ac14f3",
   "metadata": {},
   "outputs": [
    {
     "name": "stderr",
     "output_type": "stream",
     "text": [
      "/Users/djkhai/miniforge3/envs/tensorflow/lib/python3.8/site-packages/numpy/core/shape_base.py:65: VisibleDeprecationWarning: Creating an ndarray from ragged nested sequences (which is a list-or-tuple of lists-or-tuples-or ndarrays with different lengths or shapes) is deprecated. If you meant to do this, you must specify 'dtype=object' when creating the ndarray.\n",
      "  ary = asanyarray(ary)\n"
     ]
    },
    {
     "data": {
      "text/plain": [
       "[<matplotlib.lines.Line2D at 0x29ccd4b20>]"
      ]
     },
     "execution_count": 160,
     "metadata": {},
     "output_type": "execute_result"
    },
    {
     "data": {
      "image/png": "[encoded data removed]",
      "text/plain": [
       "<Figure size 2200x500 with 1 Axes>"
      ]
     },
     "metadata": {},
     "output_type": "display_data"
    }
   ],
   "source": [
    "plt.figure(figsize=(22,5))\n",
    "plt.plot(m_scaler.inverse_transform(df_close_scaled))\n",
    "plt.plot(predict_plot)"
   ]
  },
  {
   "cell_type": "code",
   "execution_count": null,
   "id": "b0c56174-b6de-40d6-a8c8-32d1737bc012",
   "metadata": {},
   "outputs": [],
   "source": []
  }
 ],
 "metadata": {
  "kernelspec": {
   "display_name": "Python 3 (ipykernel)",
   "language": "python",
   "name": "python3"
  },
  "language_info": {
   "codemirror_mode": {
    "name": "ipython",
    "version": 3
   },
   "file_extension": ".py",
   "mimetype": "text/x-python",
   "name": "python",
   "nbconvert_exporter": "python",
   "pygments_lexer": "ipython3",
   "version": "3.8.13"
  }
 },
 "nbformat": 4,
 "nbformat_minor": 5
}
